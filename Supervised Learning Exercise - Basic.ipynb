{
 "cells": [
  {
   "cell_type": "markdown",
   "metadata": {},
   "source": [
    "# Supervised Learning Exercise \n",
    "\n",
    "Class : Review of Supervised Learning\n",
    "<br> Date  : 7 November 2019 \n",
    "\n",
    "HCI Data Science Bootcamp 2019"
   ]
  },
  {
   "cell_type": "code",
   "execution_count": 28,
   "metadata": {},
   "outputs": [],
   "source": [
    "# Memanggil Library yang dibutuhkan \n",
    "\n",
    "# Write your code here! \n",
    "# pandas as pd\n",
    "# numpy as np\n",
    "# matplotlib.pyplot as plt\n",
    "# sklearn.model_selection import train_test_split\n",
    "# sklearn.linear_model import LinearRegression, Logistic Regression\n",
    "# sklearn.metrics\n",
    "# math import sqrt"
   ]
  },
  {
   "cell_type": "markdown",
   "metadata": {},
   "source": [
    "Link Referensi https://realpython.com/linear-regression-in-python/"
   ]
  },
  {
   "cell_type": "markdown",
   "metadata": {},
   "source": [
    "## 1. Regresi"
   ]
  },
  {
   "cell_type": "code",
   "execution_count": 6,
   "metadata": {},
   "outputs": [],
   "source": [
    "# Memanggil dataset dan assign sebagai dataset \n",
    "# (Hint: pd.read_csv, dataset: gaji_pengeluaran.csv)\n",
    "\n",
    "\n",
    "# Write your code here! "
   ]
  },
  {
   "cell_type": "code",
   "execution_count": 7,
   "metadata": {},
   "outputs": [],
   "source": [
    "# Menampilkan 5 baris data pertama \n",
    "\n",
    "# Write your code here! "
   ]
  },
  {
   "cell_type": "code",
   "execution_count": 8,
   "metadata": {},
   "outputs": [],
   "source": [
    "# Konversi Dataset ke Data Array (Hint: np.asarray, sebagai dataset_array)"
   ]
  },
  {
   "cell_type": "code",
   "execution_count": 9,
   "metadata": {},
   "outputs": [],
   "source": [
    "# By running these command, you will have two arrays: the input X = dataset_array[:,0] \n",
    "# and output y = dataset_array[:,1]. \n",
    "# You should call .reshape() on X because this array is required to be two-dimensional, \n",
    "# or to be more precise, to have one column and as many rows as necessary. \n",
    "# That’s exactly what the argument (-1, 1) of .reshape() specifies.\n",
    "\n",
    "# Write your code here!"
   ]
  },
  {
   "cell_type": "code",
   "execution_count": 10,
   "metadata": {},
   "outputs": [],
   "source": [
    "# Split training and testing (Hint: train_test_split)\n",
    "# Assign into X_train, X_test, y_train, y_test variable\n",
    "# test_size = 0.4\n",
    "# random_state = 42\n",
    "\n",
    "# Write your code here! "
   ]
  },
  {
   "cell_type": "code",
   "execution_count": 11,
   "metadata": {},
   "outputs": [],
   "source": [
    "# Fitting Linear Regression (Assign sebagai variabel model_LR)  \n",
    "# Hint: Gunakan fungsi LinearRegression\n",
    "\n",
    "# Write your code here! "
   ]
  },
  {
   "cell_type": "code",
   "execution_count": 12,
   "metadata": {},
   "outputs": [],
   "source": [
    "# Lakukan fit X_train dan y_train (gunakan method.fit)\n",
    "\n",
    "# Write your code here! "
   ]
  },
  {
   "cell_type": "code",
   "execution_count": 13,
   "metadata": {},
   "outputs": [],
   "source": [
    "# Predict model (gunakan .predict)"
   ]
  },
  {
   "cell_type": "code",
   "execution_count": 15,
   "metadata": {},
   "outputs": [],
   "source": [
    "# Model evaluation for regression \n",
    "\n",
    "# rmse_train = sqrt(metrics.mean_squared_error(y_true=y_train, y_pred=train_pred))\n",
    "# Why above script is error? \n",
    "# Write your code here for rmse_test\n",
    "# rmse_test ? \n",
    "\n",
    "# r2_train = metrics.r2_score(y_train, train_pred)\n",
    "# Why above script is error?\n",
    "# Write your code here for r2_score\n",
    "# r2_test ?\n",
    "\n",
    "# Print the accuracy for seen and unseen data\n",
    "# print(\"RMSE on seen data: {0:.2f}.\".format(rmse_train))\n",
    "# print(\"RMSE on unseen data: {0:.2f}.\".format(rmse_test))\n",
    "# print(\"R Square on seen data: {0:.2f}.\".format(r2_train))\n",
    "# print(\"R Square on unseen data: {0:.2f}.\".format(r2_test))"
   ]
  },
  {
   "cell_type": "code",
   "execution_count": 16,
   "metadata": {},
   "outputs": [],
   "source": [
    "# Visualisasi hasil prediksi pada data training \n",
    "# Ukuran plot \n",
    "# plt.figure(figsize=(10,8))\n",
    "# Biru adalah data observasi\n",
    "# plt.scatter(X_train, y_train, color = \"blue\")\n",
    "# Garis merah adalah hasil prediksi dari machine learning \n",
    "# plt.plot(X_train, model_LR.predict(X_train), color='red')\n",
    "#Memberi judul dan label \n",
    "# plt.title(\"Grafik Gaji terhadap Pengeluaran\")\n",
    "# plt.xlabel(\"Gaji\")\n",
    "# plt.ylabel(\"Pengeluaran\")\n",
    "#Menampilkan Grafik\n",
    "# plt.show()\n"
   ]
  },
  {
   "cell_type": "markdown",
   "metadata": {},
   "source": [
    "## 2. Klasifikasi"
   ]
  },
  {
   "cell_type": "code",
   "execution_count": 17,
   "metadata": {},
   "outputs": [],
   "source": [
    "# Memanggil dataset gaji_pengeluaran_label.csv\n",
    "\n",
    "# Write your code here! "
   ]
  },
  {
   "cell_type": "code",
   "execution_count": 18,
   "metadata": {},
   "outputs": [],
   "source": [
    "# Lihat 5 baris pertama dataset"
   ]
  },
  {
   "cell_type": "code",
   "execution_count": 19,
   "metadata": {},
   "outputs": [],
   "source": [
    "# Konversi Dataset DataFrame\n",
    "\n",
    "# Write your code here! \n",
    "\n",
    "# Pisahkan antara X (atribut) dan y (target) \n",
    "\n",
    "# Write your code here! \n"
   ]
  },
  {
   "cell_type": "code",
   "execution_count": 20,
   "metadata": {},
   "outputs": [],
   "source": [
    "# By running these command, you will have two arrays of X and y \n"
   ]
  },
  {
   "cell_type": "code",
   "execution_count": 21,
   "metadata": {},
   "outputs": [],
   "source": [
    "# Split training and testing (test_size=0.4, random_state = 0)\n",
    "# X_train, X_test, y_train, y_test "
   ]
  },
  {
   "cell_type": "code",
   "execution_count": 22,
   "metadata": {},
   "outputs": [],
   "source": [
    "# Memanggil Logistic Regression classifier, assign sebagai lr, gunakan LogisticRegression\n",
    "\n",
    "# Fitting model dengan training data dan target \n"
   ]
  },
  {
   "cell_type": "code",
   "execution_count": 23,
   "metadata": {},
   "outputs": [],
   "source": [
    "# Melakukan prediksi untuk training dan test \n",
    "# (train_pred, test_pred, method predict) "
   ]
  },
  {
   "cell_type": "code",
   "execution_count": 24,
   "metadata": {},
   "outputs": [],
   "source": [
    "# Confusion Matrix terhadap data training (Hint: metrics.confusion_matrix)\n",
    "# Assign as variable : conf_mat_train\n",
    "\n",
    "# Write your code here! "
   ]
  },
  {
   "cell_type": "code",
   "execution_count": 25,
   "metadata": {},
   "outputs": [],
   "source": [
    "# Confusion Matrix terhadap data testing "
   ]
  },
  {
   "cell_type": "code",
   "execution_count": 26,
   "metadata": {},
   "outputs": [],
   "source": [
    "# Model evaluation for classification \n",
    "# conf_mat = metrics.confusion_matrix(y_train,train_pred)\n",
    "# akurasi_train = metrics.accuracy_score(y_train,train_pred)\n",
    "# akurasi_test = metrics.accuracy_score(y_test,test_pred)\n",
    "# recall_train = metrics.recall_score(y_train,train_pred)\n",
    "# recall_test = metrics.recall_score(y_test,test_pred)\n",
    "# presisi_train = metrics.precision_score(y_train,train_pred)\n",
    "# presisi_test = metrics.precision_score(y_test,test_pred)\n",
    "\n",
    "# Print the accuracy for seen and unseen data\n",
    "# print(\"Akurasi data training {0:.2f}.\".format(akurasi_train))\n",
    "# print(\"Akurasi data testing: {0:.2f}.\".format(akurasi_test))\n",
    "# print(\"Recall data training: {0:.2f}.\".format(recall_train))\n",
    "# print(\"Recall data testing: {0:.2f}.\".format(recall_test))\n",
    "# print(\"Presisi data training: {0:.2f}.\".format(presisi_train))\n",
    "# print(\"Presisi data testing: {0:.2f}.\".format(presisi_test))"
   ]
  },
  {
   "cell_type": "code",
   "execution_count": 27,
   "metadata": {},
   "outputs": [],
   "source": [
    "# Atau bisa digunakan juga classification report\n",
    "# print(metrics.classification_report(y_test, lr.predict(X_test)))"
   ]
  }
 ],
 "metadata": {
  "kernelspec": {
   "display_name": "Python 3",
   "language": "python",
   "name": "python3"
  },
  "language_info": {
   "codemirror_mode": {
    "name": "ipython",
    "version": 3
   },
   "file_extension": ".py",
   "mimetype": "text/x-python",
   "name": "python",
   "nbconvert_exporter": "python",
   "pygments_lexer": "ipython3",
   "version": "3.6.8"
  }
 },
 "nbformat": 4,
 "nbformat_minor": 2
}
