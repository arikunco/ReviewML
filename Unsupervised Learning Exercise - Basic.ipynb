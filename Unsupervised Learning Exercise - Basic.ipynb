{
 "cells": [
  {
   "cell_type": "markdown",
   "metadata": {},
   "source": [
    "# Unsupervised Learning Exercise - Basic \n",
    "\n",
    "Deskripsi     : Script berikut ini adalah exercise script basic yang digunakan untuk melakukan K-Means Clustering. Anda diminta untuk mengisi kode-kode yang masih ada gap.\n",
    "\n",
    "Dataset       : Dataset Dummy yang terdiri dari dua variabel, yaitu variabel gaji dan pengeluaran\n",
    "\n",
    "Referensi     : Buku Fundamental of Machine Learning with Python (by Teguh Wahyono)\n",
    "\n",
    "Curated by    : B. Ari Kuncoro (IYKRA)"
   ]
  },
  {
   "cell_type": "markdown",
   "metadata": {},
   "source": [
    "## Latar Belakang\n",
    "\n",
    "Sebuah perusahaan melakukan penelitian terhadap data-data konsumen yang dimilikinya. Perusahaan tersebut akan melakukan pengelompokan data ke dalam beberapa cluster berdasarkan kriteria besaran gaji yang diterima dan pengeluaran per bulannya. \n",
    "\n",
    "\n",
    "## Bagaimana cara melakukan clustering?\n",
    "\n",
    "Langkah pertama yang mesti kita lakukan adalah dengan memanggil library atau pustaka yang dibutuhkan, yaitu matplotlib (plt) gunakan , numpy (np), pandas (pd), dan sklearn (khususnya sklearn.cluster, KMeans). "
   ]
  },
  {
   "cell_type": "code",
   "execution_count": 2,
   "metadata": {},
   "outputs": [],
   "source": [
    "# Step 1. Memanggil Library yang dibutuhkan \n",
    "\n",
    "# Write your code here! \n",
    "\n",
    "# Baiknya juga gunakan command %matplotlib inline\n",
    "# %matplotlib inline sets the backend of matplotlib to the 'inline' backend"
   ]
  },
  {
   "cell_type": "markdown",
   "metadata": {},
   "source": [
    "Langkah kedua adalah memanggil Dataset "
   ]
  },
  {
   "cell_type": "code",
   "execution_count": 3,
   "metadata": {},
   "outputs": [],
   "source": [
    "# Step 2. Memanggil dataset : 'dataset/gaji_pengeluaran.csv'\n",
    "\n",
    "# Write your code here! "
   ]
  },
  {
   "cell_type": "code",
   "execution_count": 4,
   "metadata": {},
   "outputs": [],
   "source": [
    "# Menampilkan 5 baris pertama dari dataset \n",
    "\n",
    "# Write your code here! "
   ]
  },
  {
   "cell_type": "markdown",
   "metadata": {},
   "source": [
    "Langkah ketiga adalah dengan melakukan konversi dataset ke data array "
   ]
  },
  {
   "cell_type": "code",
   "execution_count": 5,
   "metadata": {},
   "outputs": [],
   "source": [
    "# Step 3. Konversi Dataset ke Data Array, assign sebagai X \n",
    "\n",
    "# Write your code here!\n"
   ]
  },
  {
   "cell_type": "markdown",
   "metadata": {},
   "source": [
    "Langkah keempat adalah menampilkan Data Array ke dalam Scatter plot "
   ]
  },
  {
   "cell_type": "code",
   "execution_count": 7,
   "metadata": {},
   "outputs": [],
   "source": [
    "## Step 4. Menampilkan data ke dalam grafik scatterplot \n",
    "\n",
    "# Referensi, just uncomment this section: \n",
    "# plt.scatter(X[:,0],X[:,1], label = 'True Position')\n",
    "# plt.xlabel(\"Gaji\")\n",
    "# plt.ylabel(\"Pengeluaran\")\n",
    "# plt.title(\"Grafik Konsumen\")"
   ]
  },
  {
   "cell_type": "markdown",
   "metadata": {},
   "source": [
    "Langkah kelima adalah membuat Scree plot dan aktivasi KMeans"
   ]
  },
  {
   "cell_type": "code",
   "execution_count": 9,
   "metadata": {},
   "outputs": [],
   "source": [
    "# Step 5a: Membuat Scree Plot \n",
    "\n",
    "# Reference: Just uncomment this script \n",
    "# Sum_of_squared_distances = []\n",
    "# K = ... # Range of 1 to 15\n",
    "# for k in K:\n",
    "#    km = KMeans(n_clusters=k)\n",
    "#    km = km.fit(X)\n",
    "#    Sum_of_squared_distances.append(km.inertia_)\n",
    "\n",
    "# plt.plot(K, Sum_of_squared_distances, 'bx-')\n",
    "# plt.xlabel('k')\n",
    "# plt.ylabel('Sum_of_squared_distances')\n",
    "# plt.title('Elbow Method For Optimal k')\n",
    "# plt.show()"
   ]
  },
  {
   "cell_type": "code",
   "execution_count": 10,
   "metadata": {},
   "outputs": [],
   "source": [
    "# Step 5b. Melakukan aktivasi algoritma K-Means, \n",
    "# pilih berapa jumlah n_cluster berdasarkan elbow method \n",
    "\n",
    "# Hint: KMeans, km.fit()\n",
    "\n",
    "# Write your code here!"
   ]
  },
  {
   "cell_type": "markdown",
   "metadata": {},
   "source": [
    "Langkah keenam adalah menampilkan nilai centroid dan label data point "
   ]
  },
  {
   "cell_type": "code",
   "execution_count": 11,
   "metadata": {},
   "outputs": [],
   "source": [
    "# Step 6. Menampilkan nilai centroid yang dibangkitkan oleh \n",
    "# algoritma kmeans. Hint: cluster_centers_ \n",
    "\n",
    "\n",
    "# Write your code here! "
   ]
  },
  {
   "cell_type": "code",
   "execution_count": 13,
   "metadata": {},
   "outputs": [],
   "source": [
    "# Checking \n",
    "\n",
    "# Just uncomment the following code and run\n",
    "# print(kmeans.labels_)"
   ]
  },
  {
   "cell_type": "markdown",
   "metadata": {},
   "source": [
    "Langkah ketujuh adalah visualisasi hasil clustering"
   ]
  },
  {
   "cell_type": "code",
   "execution_count": 14,
   "metadata": {},
   "outputs": [],
   "source": [
    "# Step 7 Visualisasi Hasil \n",
    "\n",
    "# Just uncomment the following code and run\n",
    "# plt.scatter(X[:,0],X[:,1], c=kmeans.labels_, cmap='rainbow')\n",
    "# plt.xlabel(\"Gaji\")\n",
    "\n",
    "# Beri judul \"Grafik Konsumen\", label y axis \"Pengeluaran\"\n",
    "# plt.ylabel(...)\n",
    "# plt.title(...)\n",
    "# plt.show()"
   ]
  },
  {
   "cell_type": "markdown",
   "metadata": {},
   "source": [
    "Langkah kedelapan adalah menampilkan hasil centroid di dalam grafik"
   ]
  },
  {
   "cell_type": "code",
   "execution_count": 20,
   "metadata": {},
   "outputs": [],
   "source": [
    "# Step 8 Menampilkan hasil centroid di dalam grafik \n",
    "\n",
    "# Just uncomment the following code and run\n",
    "# plt.scatter(X[:,0],X[:,1], c=kmeans.labels_, cmap='rainbow')\n",
    "# plt.scatter(kmeans.cluster_centers_[:,0],kmeans.cluster_centers_[:,1],color='black')\n",
    "# plt.xlabel(\"Gaji\")\n",
    "# plt.ylabel(\"Pengeluaran\")\n",
    "# plt.title(\"Grafik Konsumen\")\n",
    "# plt.show()"
   ]
  },
  {
   "cell_type": "code",
   "execution_count": 18,
   "metadata": {},
   "outputs": [],
   "source": [
    "# Memasukkan hasil label ke dalam suatu data frame \n",
    "# data_clustered = pd.DataFrame(X)\n",
    "# data_clustered['cluster'] = pd.DataFrame(kmeans.labels_)\n",
    "# data_clustered = data_clustered.sort_values('cluster')\n",
    "# data_clustered = np.asarray(data_clustered)"
   ]
  },
  {
   "cell_type": "markdown",
   "metadata": {},
   "source": [
    "Langkah kesembilan mengevaluasi hasil: Similarity Matrix dan Dunn's Index\n"
   ]
  },
  {
   "cell_type": "code",
   "execution_count": 22,
   "metadata": {},
   "outputs": [],
   "source": [
    "# Membuat similarity Matrix \n",
    "# from scipy.spatial.distance import cdist\n",
    "# dist = cdist(data_clustered[:,0:2],data_clustered[:,0:2], metric='euclidean')\n",
    "# plt.imshow(dist)\n",
    "# plt.show()"
   ]
  },
  {
   "cell_type": "code",
   "execution_count": 23,
   "metadata": {},
   "outputs": [],
   "source": [
    "# Menghitung Dunn's index \n",
    "# Mengingat tidak ada function Dunn's Index dalam sklearn, kita gunakan alternatif lain yaitu DB Index. \n",
    "# Silakan baca referensi berikut"
   ]
  },
  {
   "cell_type": "markdown",
   "metadata": {},
   "source": [
    "Referensi: https://www.geeksforgeeks.org/dunn-index-and-db-index-cluster-validity-indices-set-1/ "
   ]
  },
  {
   "cell_type": "code",
   "execution_count": 24,
   "metadata": {},
   "outputs": [],
   "source": [
    "# Namun ketika dicoba, package sklearn mesti dinaikkan versinya menjadi versi 0.21.2\n",
    "# Alternatif lain, kita bisa melakukan pembuatan function seperti pada referensi berikut ini: "
   ]
  },
  {
   "cell_type": "markdown",
   "metadata": {},
   "source": [
    "Referensi: https://gist.github.com/douglasrizzo/cd7e792ff3a2dcaf27f6"
   ]
  }
 ],
 "metadata": {
  "kernelspec": {
   "display_name": "Python 3",
   "language": "python",
   "name": "python3"
  },
  "language_info": {
   "codemirror_mode": {
    "name": "ipython",
    "version": 3
   },
   "file_extension": ".py",
   "mimetype": "text/x-python",
   "name": "python",
   "nbconvert_exporter": "python",
   "pygments_lexer": "ipython3",
   "version": "3.6.8"
  }
 },
 "nbformat": 4,
 "nbformat_minor": 2
}
